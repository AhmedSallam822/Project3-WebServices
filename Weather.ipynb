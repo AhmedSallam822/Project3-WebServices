{
 "cells": [
  {
   "cell_type": "code",
   "execution_count": 1,
   "metadata": {},
   "outputs": [],
   "source": [
    "import requests\n",
    "import csv"
   ]
  },
  {
   "cell_type": "markdown",
   "metadata": {},
   "source": [
    "## Request Data From Web"
   ]
  },
  {
   "cell_type": "code",
   "execution_count": 3,
   "metadata": {},
   "outputs": [
    {
     "data": {
      "text/plain": [
       "<Response [200]>"
      ]
     },
     "execution_count": 3,
     "metadata": {},
     "output_type": "execute_result"
    }
   ],
   "source": [
    "response = requests.get(\"https://www.metaweather.com/api/location/1521894/\")\n",
    "response"
   ]
  },
  {
   "cell_type": "markdown",
   "metadata": {},
   "source": [
    "## Convert Data to Json"
   ]
  },
  {
   "cell_type": "code",
   "execution_count": 64,
   "metadata": {},
   "outputs": [
    {
     "data": {
      "text/plain": [
       "{'consolidated_weather': [{'id': 5545441832730624,\n",
       "   'weather_state_name': 'Heavy Cloud',\n",
       "   'weather_state_abbr': 'hc',\n",
       "   'wind_direction_compass': 'W',\n",
       "   'created': '2022-03-10T13:34:22.161810Z',\n",
       "   'applicable_date': '2022-03-10',\n",
       "   'min_temp': 12.0,\n",
       "   'max_temp': 19.975,\n",
       "   'the_temp': 18.905,\n",
       "   'wind_speed': 12.438943202929558,\n",
       "   'wind_direction': 265.2342888839106,\n",
       "   'air_pressure': 1005.0,\n",
       "   'humidity': 39,\n",
       "   'visibility': 11.51804710490734,\n",
       "   'predictability': 71},\n",
       "  {'id': 4940690137022464,\n",
       "   'weather_state_name': 'Heavy Cloud',\n",
       "   'weather_state_abbr': 'hc',\n",
       "   'wind_direction_compass': 'NW',\n",
       "   'created': '2022-03-10T13:34:26.361463Z',\n",
       "   'applicable_date': '2022-03-11',\n",
       "   'min_temp': 9.515,\n",
       "   'max_temp': 17.79,\n",
       "   'the_temp': 16.695,\n",
       "   'wind_speed': 11.225290046059015,\n",
       "   'wind_direction': 309.88253036768333,\n",
       "   'air_pressure': 1020.0,\n",
       "   'humidity': 35,\n",
       "   'visibility': 11.00075558736976,\n",
       "   'predictability': 71},\n",
       "  {'id': 6374689824833536,\n",
       "   'weather_state_name': 'Heavy Cloud',\n",
       "   'weather_state_abbr': 'hc',\n",
       "   'wind_direction_compass': 'N',\n",
       "   'created': '2022-03-10T13:34:28.572457Z',\n",
       "   'applicable_date': '2022-03-12',\n",
       "   'min_temp': 7.635,\n",
       "   'max_temp': 17.92,\n",
       "   'the_temp': 15.875,\n",
       "   'wind_speed': 7.668711598923619,\n",
       "   'wind_direction': 359.0,\n",
       "   'air_pressure': 1022.5,\n",
       "   'humidity': 37,\n",
       "   'visibility': 10.648748806967312,\n",
       "   'predictability': 71},\n",
       "  {'id': 6108272735027200,\n",
       "   'weather_state_name': 'Light Cloud',\n",
       "   'weather_state_abbr': 'lc',\n",
       "   'wind_direction_compass': 'N',\n",
       "   'created': '2022-03-10T13:34:31.952577Z',\n",
       "   'applicable_date': '2022-03-13',\n",
       "   'min_temp': 7.305000000000001,\n",
       "   'max_temp': 19.64,\n",
       "   'the_temp': 17.175,\n",
       "   'wind_speed': 7.659452426835281,\n",
       "   'wind_direction': 3.999999999999984,\n",
       "   'air_pressure': 1021.0,\n",
       "   'humidity': 39,\n",
       "   'visibility': 12.934462737612343,\n",
       "   'predictability': 70},\n",
       "  {'id': 5534151605223424,\n",
       "   'weather_state_name': 'Light Cloud',\n",
       "   'weather_state_abbr': 'lc',\n",
       "   'wind_direction_compass': 'N',\n",
       "   'created': '2022-03-10T13:34:34.262606Z',\n",
       "   'applicable_date': '2022-03-14',\n",
       "   'min_temp': 7.245,\n",
       "   'max_temp': 19.05,\n",
       "   'the_temp': 16.384999999999998,\n",
       "   'wind_speed': 9.467119209151887,\n",
       "   'wind_direction': 354.52048059750916,\n",
       "   'air_pressure': 1023.5,\n",
       "   'humidity': 38,\n",
       "   'visibility': 11.979415215143561,\n",
       "   'predictability': 70},\n",
       "  {'id': 5943820047876096,\n",
       "   'weather_state_name': 'Clear',\n",
       "   'weather_state_abbr': 'c',\n",
       "   'wind_direction_compass': 'N',\n",
       "   'created': '2022-03-10T13:34:37.553573Z',\n",
       "   'applicable_date': '2022-03-15',\n",
       "   'min_temp': 6.13,\n",
       "   'max_temp': 18.055,\n",
       "   'the_temp': 15.6,\n",
       "   'wind_speed': 6.855484768949336,\n",
       "   'wind_direction': 352.0,\n",
       "   'air_pressure': 1026.0,\n",
       "   'humidity': 41,\n",
       "   'visibility': 9.999726596675416,\n",
       "   'predictability': 68}],\n",
       " 'time': '2022-03-10T16:32:23.941082+02:00',\n",
       " 'sun_rise': '2022-03-10T06:11:04.007380+02:00',\n",
       " 'sun_set': '2022-03-10T17:59:57.732818+02:00',\n",
       " 'timezone_name': 'LMT',\n",
       " 'parent': {'title': 'Egypt',\n",
       "  'location_type': 'Country',\n",
       "  'woeid': 23424802,\n",
       "  'latt_long': '26.837090,30.796391'},\n",
       " 'sources': [{'title': 'BBC',\n",
       "   'slug': 'bbc',\n",
       "   'url': 'http://www.bbc.co.uk/weather/',\n",
       "   'crawl_rate': 360},\n",
       "  {'title': 'Forecast.io',\n",
       "   'slug': 'forecast-io',\n",
       "   'url': 'http://forecast.io/',\n",
       "   'crawl_rate': 480},\n",
       "  {'title': 'HAMweather',\n",
       "   'slug': 'hamweather',\n",
       "   'url': 'http://www.hamweather.com/',\n",
       "   'crawl_rate': 360},\n",
       "  {'title': 'Met Office',\n",
       "   'slug': 'met-office',\n",
       "   'url': 'http://www.metoffice.gov.uk/',\n",
       "   'crawl_rate': 180},\n",
       "  {'title': 'OpenWeatherMap',\n",
       "   'slug': 'openweathermap',\n",
       "   'url': 'http://openweathermap.org/',\n",
       "   'crawl_rate': 360},\n",
       "  {'title': 'Weather Underground',\n",
       "   'slug': 'wunderground',\n",
       "   'url': 'https://www.wunderground.com/?apiref=fc30dc3cd224e19b',\n",
       "   'crawl_rate': 720},\n",
       "  {'title': 'World Weather Online',\n",
       "   'slug': 'world-weather-online',\n",
       "   'url': 'http://www.worldweatheronline.com/',\n",
       "   'crawl_rate': 360}],\n",
       " 'title': 'Cairo',\n",
       " 'location_type': 'City',\n",
       " 'woeid': 1521894,\n",
       " 'latt_long': '30.049950,31.248600',\n",
       " 'timezone': 'Africa/Cairo'}"
      ]
     },
     "execution_count": 64,
     "metadata": {},
     "output_type": "execute_result"
    }
   ],
   "source": [
    "Weather = response.json()\n",
    "Weather"
   ]
  },
  {
   "cell_type": "code",
   "execution_count": 92,
   "metadata": {},
   "outputs": [
    {
     "data": {
      "text/plain": [
       "{'id': 5545441832730624,\n",
       " 'weather_state_name': 'Heavy Cloud',\n",
       " 'weather_state_abbr': 'hc',\n",
       " 'wind_direction_compass': 'W',\n",
       " 'created': '2022-03-10T13:34:22.161810Z',\n",
       " 'applicable_date': '2022-03-10',\n",
       " 'min_temp': 12.0,\n",
       " 'max_temp': 19.975,\n",
       " 'the_temp': 18.905,\n",
       " 'wind_speed': 12.438943202929558,\n",
       " 'wind_direction': 265.2342888839106,\n",
       " 'air_pressure': 1005.0,\n",
       " 'humidity': 39,\n",
       " 'visibility': 11.51804710490734,\n",
       " 'predictability': 71}"
      ]
     },
     "execution_count": 92,
     "metadata": {},
     "output_type": "execute_result"
    }
   ],
   "source": [
    "weather_value = Weather['consolidated_weather'][0]\n",
    "weather_value"
   ]
  },
  {
   "cell_type": "markdown",
   "metadata": {},
   "source": [
    "## Read Data and Save it as CSV File For Day 1 and Day 2 and Day 3"
   ]
  },
  {
   "cell_type": "code",
   "execution_count": 94,
   "metadata": {},
   "outputs": [],
   "source": [
    "with open(\"Weather_day_1.csv\",\"w+\",newline=\"\") as f :\n",
    "    writer = csv.DictWriter(f,fieldnames=[\"Temperature\",\"Humidity\",\"Visibility\",\"Air_pressure\",\"wind_speed\",\"Datetime\"])\n",
    "    writer.writeheader()\n",
    "    \n",
    "    Temperature = weather_value[\"the_temp\"]\n",
    "    Humidity = weather_value[\"humidity\"]\n",
    "    Visibility = weather_value[\"visibility\"]\n",
    "    Air_pressure = weather_value[\"air_pressure\"]\n",
    "    wind_speed = weather_value[\"wind_speed\"]\n",
    "    Datetime = weather_value[\"applicable_date\"]\n",
    "    \n",
    "\n",
    "    writer.writerow(\n",
    "        {\n",
    "        \"Temperature\" : Temperature,\n",
    "        \"Humidity\" : Humidity,\n",
    "        \"Visibility\" : Visibility,\n",
    "        \"Air_pressure\" : Air_pressure,\n",
    "        \"wind_speed\" : wind_speed,\n",
    "        \"Datetime\" : Datetime,\n",
    "        }\n",
    "\n",
    "\n",
    "\n",
    "        )    \n",
    "        \n",
    "    \n",
    "\n",
    "\n"
   ]
  },
  {
   "cell_type": "code",
   "execution_count": 95,
   "metadata": {},
   "outputs": [
    {
     "data": {
      "text/plain": [
       "{'id': 4940690137022464,\n",
       " 'weather_state_name': 'Heavy Cloud',\n",
       " 'weather_state_abbr': 'hc',\n",
       " 'wind_direction_compass': 'NW',\n",
       " 'created': '2022-03-10T13:34:26.361463Z',\n",
       " 'applicable_date': '2022-03-11',\n",
       " 'min_temp': 9.515,\n",
       " 'max_temp': 17.79,\n",
       " 'the_temp': 16.695,\n",
       " 'wind_speed': 11.225290046059015,\n",
       " 'wind_direction': 309.88253036768333,\n",
       " 'air_pressure': 1020.0,\n",
       " 'humidity': 35,\n",
       " 'visibility': 11.00075558736976,\n",
       " 'predictability': 71}"
      ]
     },
     "execution_count": 95,
     "metadata": {},
     "output_type": "execute_result"
    }
   ],
   "source": [
    "weather_value = Weather['consolidated_weather'][1]\n",
    "weather_value"
   ]
  },
  {
   "cell_type": "code",
   "execution_count": 96,
   "metadata": {},
   "outputs": [],
   "source": [
    "with open(\"Weather_day_2.csv\",\"w+\",newline=\"\") as f :\n",
    "    writer = csv.DictWriter(f,fieldnames=[\"Temperature\",\"Humidity\",\"Visibility\",\"Air_pressure\",\"wind_speed\",\"Datetime\"])\n",
    "    writer.writeheader()\n",
    "    \n",
    "    Temperature = weather_value[\"the_temp\"]\n",
    "    Humidity = weather_value[\"humidity\"]\n",
    "    Visibility = weather_value[\"visibility\"]\n",
    "    Air_pressure = weather_value[\"air_pressure\"]\n",
    "    wind_speed = weather_value[\"wind_speed\"]\n",
    "    Datetime = weather_value[\"applicable_date\"]\n",
    "    \n",
    "\n",
    "    writer.writerow(\n",
    "        {\n",
    "        \"Temperature\" : Temperature,\n",
    "        \"Humidity\" : Humidity,\n",
    "        \"Visibility\" : Visibility,\n",
    "        \"Air_pressure\" : Air_pressure,\n",
    "        \"wind_speed\" : wind_speed,\n",
    "        \"Datetime\" : Datetime,\n",
    "        }\n",
    "\n",
    "\n",
    "\n",
    "        )    \n",
    "        "
   ]
  },
  {
   "cell_type": "code",
   "execution_count": 97,
   "metadata": {},
   "outputs": [
    {
     "data": {
      "text/plain": [
       "{'id': 6374689824833536,\n",
       " 'weather_state_name': 'Heavy Cloud',\n",
       " 'weather_state_abbr': 'hc',\n",
       " 'wind_direction_compass': 'N',\n",
       " 'created': '2022-03-10T13:34:28.572457Z',\n",
       " 'applicable_date': '2022-03-12',\n",
       " 'min_temp': 7.635,\n",
       " 'max_temp': 17.92,\n",
       " 'the_temp': 15.875,\n",
       " 'wind_speed': 7.668711598923619,\n",
       " 'wind_direction': 359.0,\n",
       " 'air_pressure': 1022.5,\n",
       " 'humidity': 37,\n",
       " 'visibility': 10.648748806967312,\n",
       " 'predictability': 71}"
      ]
     },
     "execution_count": 97,
     "metadata": {},
     "output_type": "execute_result"
    }
   ],
   "source": [
    "weather_value = Weather['consolidated_weather'][2]\n",
    "weather_value"
   ]
  },
  {
   "cell_type": "code",
   "execution_count": 98,
   "metadata": {},
   "outputs": [],
   "source": [
    "with open(\"Weather_day_3.csv\",\"w+\",newline=\"\") as f :\n",
    "    writer = csv.DictWriter(f,fieldnames=[\"Temperature\",\"Humidity\",\"Visibility\",\"Air_pressure\",\"wind_speed\",\"Datetime\"])\n",
    "    writer.writeheader()\n",
    "    \n",
    "    Temperature = weather_value[\"the_temp\"]\n",
    "    Humidity = weather_value[\"humidity\"]\n",
    "    Visibility = weather_value[\"visibility\"]\n",
    "    Air_pressure = weather_value[\"air_pressure\"]\n",
    "    wind_speed = weather_value[\"wind_speed\"]\n",
    "    Datetime = weather_value[\"applicable_date\"]\n",
    "    \n",
    "\n",
    "    writer.writerow(\n",
    "        {\n",
    "        \"Temperature\" : Temperature,\n",
    "        \"Humidity\" : Humidity,\n",
    "        \"Visibility\" : Visibility,\n",
    "        \"Air_pressure\" : Air_pressure,\n",
    "        \"wind_speed\" : wind_speed,\n",
    "        \"Datetime\" : Datetime,\n",
    "        }\n",
    "\n",
    "\n",
    "\n",
    "        )    "
   ]
  }
 ],
 "metadata": {
  "interpreter": {
   "hash": "b3ba2566441a7c06988d0923437866b63cedc61552a5af99d1f4fb67d367b25f"
  },
  "kernelspec": {
   "display_name": "Python 3.8.8 ('base')",
   "language": "python",
   "name": "python3"
  },
  "language_info": {
   "name": "python",
   "version": "3.8.8"
  },
  "orig_nbformat": 4
 },
 "nbformat": 4,
 "nbformat_minor": 2
}
